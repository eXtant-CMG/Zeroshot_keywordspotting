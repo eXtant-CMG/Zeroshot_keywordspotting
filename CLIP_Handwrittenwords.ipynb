{
  "cells": [
    {
      "cell_type": "markdown",
      "source": [
        "# sources\n",
        "\n",
        "https://github.com/openai/CLIP/blob/fcab8b6eb92af684e7ff0a904464be7b99b49b88/notebooks/Prompt_Engineering_for_ImageNet.ipynb\n",
        "https://github.com/openai/CLIP#zero-shot-prediction"
      ],
      "metadata": {
        "id": "Zbv-IEDS87vh"
      }
    },
    {
      "cell_type": "markdown",
      "metadata": {
        "id": "CnmeAoKFT3d2"
      },
      "source": [
        "# Install the clip package and its dependencies\n"
      ]
    },
    {
      "cell_type": "code",
      "execution_count": 81,
      "metadata": {
        "collapsed": true,
        "id": "mmalaUZVfBp2"
      },
      "outputs": [],
      "source": [
        "# remove # to download packages\n",
        "\n",
        "#! pip install ftfy regex tqdm\n",
        "#! pip install git+https://github.com/openai/CLIP.git"
      ]
    },
    {
      "cell_type": "code",
      "execution_count": 82,
      "metadata": {
        "id": "HKJpNEPRfBp3"
      },
      "outputs": [],
      "source": [
        "# Import libraries\n",
        "\n",
        "import os\n",
        "import numpy as np\n",
        "import torch\n",
        "import clip\n",
        "import glob\n",
        "import pandas as pd\n",
        "from PIL import Image\n",
        "import matplotlib.pyplot as plt\n",
        "from tqdm.notebook import tqdm\n",
        "from pkg_resources import packaging\n",
        "from torch.utils.data import Subset"
      ]
    },
    {
      "cell_type": "code",
      "execution_count": 14,
      "metadata": {
        "colab": {
          "base_uri": "https://localhost:8080/"
        },
        "id": "t1NK7pALfBp3",
        "outputId": "2dd97a23-8be2-4dd4-a792-1b0988eb5439"
      },
      "outputs": [
        {
          "output_type": "stream",
          "name": "stdout",
          "text": [
            "['RN50', 'RN101', 'RN50x4', 'RN50x16', 'RN50x64', 'ViT-B/32', 'ViT-B/16', 'ViT-L/14', 'ViT-L/14@336px']\n"
          ]
        },
        {
          "output_type": "stream",
          "name": "stderr",
          "text": [
            "100%|████████████████████████████████████████| 891M/891M [00:08<00:00, 116MiB/s]\n"
          ]
        }
      ],
      "source": [
        "# available CLIP models\n",
        "# In this experiment, ViT-L/14@336px is used, as this is also the default model in the original CLIP paper\n",
        "print(clip.available_models())\n",
        "\n",
        "# Loading in model\n",
        "device = \"cuda\" if torch.cuda.is_available() else \"cpu\"\n",
        "model, preprocess = clip.load('ViT-L/14@336px', device)"
      ]
    },
    {
      "cell_type": "code",
      "execution_count": 15,
      "metadata": {
        "colab": {
          "base_uri": "https://localhost:8080/"
        },
        "id": "RoVpTWk3fBp4",
        "outputId": "f80d3898-b6ab-4998-8ca6-a1705ff03a16"
      },
      "outputs": [
        {
          "output_type": "stream",
          "name": "stdout",
          "text": [
            "Model parameters: 427,944,193\n",
            "Input resolution: 336\n",
            "Context length: 77\n",
            "Vocab size: 49408\n"
          ]
        }
      ],
      "source": [
        "# Parameters model\n",
        "\n",
        "input_resolution = model.visual.input_resolution\n",
        "context_length = model.context_length\n",
        "vocab_size = model.vocab_size\n",
        "\n",
        "print(\"Model parameters:\", f\"{np.sum([int(np.prod(p.shape)) for p in model.parameters()]):,}\")\n",
        "print(\"Input resolution:\", input_resolution)\n",
        "print(\"Context length:\", context_length)\n",
        "print(\"Vocab size:\", vocab_size)"
      ]
    },
    {
      "cell_type": "markdown",
      "metadata": {
        "id": "nFtH39y_BJjM"
      },
      "source": [
        "# Loading in Handwritten Words dataset"
      ]
    },
    {
      "cell_type": "markdown",
      "source": [
        "Download handwritten dataset from Kaggle,\n",
        "Or, run this code in Kaggle and load in the handwritten datasset.\n",
        "https://kaggle.com/datasets/nabeel965/handwritten-words-dataset/"
      ],
      "metadata": {
        "id": "RDhhIOZwYJa-"
      }
    },
    {
      "cell_type": "code",
      "source": [
        "# Connect to Google Drive\n",
        "\n",
        "from google.colab import drive\n",
        "drive.mount('/content/drive')"
      ],
      "metadata": {
        "colab": {
          "base_uri": "https://localhost:8080/"
        },
        "id": "W_IvtwiVU5mT",
        "outputId": "9f8e6db2-ffe7-4467-8e46-865ad621d2e4"
      },
      "execution_count": 6,
      "outputs": [
        {
          "output_type": "stream",
          "name": "stdout",
          "text": [
            "Mounted at /content/drive\n"
          ]
        }
      ]
    },
    {
      "cell_type": "code",
      "source": [
        "# Empty list to collect images\n",
        "original_images = []\n",
        "\n",
        "# Empty list to collect labels\n",
        "labels = []"
      ],
      "metadata": {
        "id": "A7vB1Ju2ZHh9"
      },
      "execution_count": 45,
      "outputs": []
    },
    {
      "cell_type": "code",
      "source": [
        "# Load in data, first upload the Handwritten Words dataset to your Google Drive!\n",
        "\n",
        "for filename in [filename for filename in glob.glob(\"/content/drive/MyDrive/handwritten-words-dataset/data/small/**/**/*.jpg\")]:\n",
        "    name = os.path.splitext(filename)[0]\n",
        "    filename_split = filename.split('/')\n",
        "    name = filename_split[-2]\n",
        "\n",
        "    image = Image.open(os.path.join(filename))\n",
        "\n",
        "    original_images.append(image)\n",
        "    labels.append(name)"
      ],
      "metadata": {
        "id": "76CpuQXfYlVn"
      },
      "execution_count": 46,
      "outputs": []
    },
    {
      "cell_type": "code",
      "source": [
        "# Check whether images are loaded in\n",
        "# Dataset contains 2513 images\n",
        "len(original_images)"
      ],
      "metadata": {
        "colab": {
          "base_uri": "https://localhost:8080/"
        },
        "id": "b1tlZvkIePH-",
        "outputId": "64b44e0a-6870-491a-e0c7-64626a9c7409"
      },
      "execution_count": 47,
      "outputs": [
        {
          "output_type": "execute_result",
          "data": {
            "text/plain": [
              "2513"
            ]
          },
          "metadata": {},
          "execution_count": 47
        }
      ]
    },
    {
      "cell_type": "code",
      "execution_count": 83,
      "metadata": {
        "id": "xeopuBXHBJjM"
      },
      "outputs": [],
      "source": [
        "# When running code in Kaggle environment\n",
        "# Load in images directly from Kaggle\n",
        "\n",
        "#for filename in [filename for filename in glob.glob(\"../input/handwritten-words-dataset/data/small/**/**/*.jpg\")]:\n",
        "#    name = os.path.splitext(filename)[0]\n",
        "#    filename_split = filename.split('/')\n",
        "#    name = filename_split[-2]\n",
        "\n",
        "#    image = Image.open(os.path.join(filename))\n",
        "\n",
        "#    original_images.append(image)\n",
        "#    labels.append(name)"
      ]
    },
    {
      "cell_type": "code",
      "execution_count": 49,
      "metadata": {
        "id": "aDXhTtBLBJjM"
      },
      "outputs": [],
      "source": [
        "# Create dataframe with the image transcriptions\n",
        "df = pd.DataFrame(labels)\n",
        "\n",
        "# Rename column to \"Labels\"\n",
        "df.columns = ['Labels']\n",
        "\n",
        "# Add images to dataframe\n",
        "df['images'] = original_images"
      ]
    },
    {
      "cell_type": "code",
      "execution_count": 51,
      "metadata": {
        "id": "f1ZRhZm9BJjM"
      },
      "outputs": [],
      "source": [
        "# labels are sorted and factorized, sorting is based on alphabetical order,\n",
        "# This means that the images in the model have to be loaded in alphabetical order as well (!)\n",
        "\n",
        "df['code'] = pd.factorize(df['Labels'], sort = True)[0]"
      ]
    },
    {
      "cell_type": "code",
      "execution_count": 53,
      "metadata": {
        "id": "5YPucE3CBJjM"
      },
      "outputs": [],
      "source": [
        "#train = df.groupby('code').sample(frac=.8)\n",
        "#test = df.loc[df.index.difference(train.index)]"
      ]
    },
    {
      "cell_type": "code",
      "execution_count": 54,
      "metadata": {
        "id": "i_ZqWFA5BJjM"
      },
      "outputs": [],
      "source": [
        "#df.Labels.unique().sort()"
      ]
    },
    {
      "cell_type": "code",
      "execution_count": 55,
      "metadata": {
        "id": "ZDdVnZaKBJjN",
        "outputId": "cc160b9e-987c-4fc8-8417-97536a3ec54e",
        "colab": {
          "base_uri": "https://localhost:8080/"
        }
      },
      "outputs": [
        {
          "output_type": "execute_result",
          "data": {
            "text/plain": [
              "['boxing', 'five', 'jump', 'quickly', 'the', 'wizards']"
            ]
          },
          "metadata": {},
          "execution_count": 55
        }
      ],
      "source": [
        "# Words in dataset, in alphabetical order, matching the order of the factorized version of the labels\n",
        "\n",
        "sorted(list(df.Labels.unique()))"
      ]
    },
    {
      "cell_type": "markdown",
      "source": [
        "# Creating embeddings for images and text"
      ],
      "metadata": {
        "id": "cM0bdr8I5tsv"
      }
    },
    {
      "cell_type": "code",
      "source": [
        "# Defining classes and templates\n",
        "# Templates are combined and with the prompt you are looking for when encoded\n",
        "# It is adviced to experiment with differemt templates / prompts, as this can influence how similar the text embedding is to the image embedding results\n",
        "\n",
        "HW_classes = sorted(list(df.Labels.unique()))\n",
        "HW_templates = ['a photo of the written word: \"{}\"',\n",
        "               'a picture of the handwritten word: \"{}\"',\n",
        "               'a picture of the written word: \"{}\", written by hand']\n",
        "\n",
        "class_map = {'HW': HW_classes}\n",
        "\n",
        "template_map = {'HW': HW_templates}"
      ],
      "metadata": {
        "id": "GkG91rXM6BJ5"
      },
      "execution_count": null,
      "outputs": []
    },
    {
      "cell_type": "code",
      "source": [
        "# Defining function to calculate accuracy\n",
        "\n",
        "@torch.no_grad()\n",
        "def accuracy(output, target, topk=(1,)):\n",
        "    maxk = max(topk)\n",
        "    batch_size = target.size(0)\n",
        "\n",
        "    _, pred = output.topk(maxk, 1, True, True)\n",
        "    pred = pred.t()\n",
        "    correct = pred.eq(target.reshape(1, -1).expand_as(pred))\n",
        "\n",
        "    res = []\n",
        "    for k in topk:\n",
        "        correct_k = correct[:k].reshape(-1).float().sum(0, keepdim=True)\n",
        "        res.append(correct_k.mul_(100.0 / batch_size).item())\n",
        "    return res"
      ],
      "metadata": {
        "id": "SsFJTQCx8V14"
      },
      "execution_count": null,
      "outputs": []
    },
    {
      "cell_type": "code",
      "source": [
        "# Function to extract text features from text prompt\n",
        "\n",
        "@torch.no_grad()\n",
        "def extract_text_features(dataset_name):\n",
        "    class_names = class_map[dataset_name]\n",
        "    templates = template_map[dataset_name]\n",
        "    model.to(device)\n",
        "    model.eval()\n",
        "\n",
        "    zeroshot_weights = []\n",
        "    for classname in class_names:\n",
        "        texts = [template.format(classname) for template in templates]\n",
        "        texts = clip.tokenize(texts).to(device)\n",
        "        class_embeddings = model.encode_text(texts)\n",
        "        # embedding size = 768,  (= dimensionality of the encoder layers)\n",
        "        # each template + class gets vector of length 768\n",
        "        # size of tensor is (x, 768), x refers to the number of templates included\n",
        "        # x = rows, 768 = columns\n",
        "        class_embeddings /= class_embeddings.norm(dim=-1, keepdim=True)\n",
        "        # normalized over rows (Frobenius Norm)\n",
        "        # dimension remains (x, 768)\n",
        "        class_embedding = class_embeddings.mean(dim=0)\n",
        "        # Column wise mean is calculated\n",
        "        # Vector of length 768 remains\n",
        "        class_embedding /= class_embedding.norm()\n",
        "        # vector is normalized (Frobenius normalization)\n",
        "        zeroshot_weights.append(class_embedding)\n",
        "        # every input (class + every possible template => mean) is represented as embedding of length 768\n",
        "        # In this case, list of 10 embeddings with length 768\n",
        "    zeroshot_weights = torch.stack(zeroshot_weights, dim=1).to(device)\n",
        "    # list of embeddings is concatenated in matrix\n",
        "    # embeddings are joined on column level\n",
        "\n",
        "    torch.set_printoptions(profile=\"full\")\n",
        "    #print(zeroshot_weights)\n",
        "    return zeroshot_weights\n"
      ],
      "metadata": {
        "id": "y5n7Lvsc8cV4"
      },
      "execution_count": null,
      "outputs": []
    },
    {
      "cell_type": "code",
      "source": [
        "# Empty list to collect image features\n",
        "image_features = []\n",
        "\n",
        "# Empty list to collect image transcriptions\n",
        "image_labels = []"
      ],
      "metadata": {
        "id": "bmCBMivq9dB8"
      },
      "execution_count": 85,
      "outputs": []
    },
    {
      "cell_type": "code",
      "execution_count": 86,
      "metadata": {
        "id": "A1LVaaAtBJjN",
        "outputId": "5243fba1-747d-4337-8deb-1e094f3c69f7",
        "colab": {
          "base_uri": "https://localhost:8080/"
        }
      },
      "outputs": [
        {
          "output_type": "stream",
          "name": "stdout",
          "text": [
            "top-1 accuracy for = dataset: 96.419\n"
          ]
        }
      ],
      "source": [
        "# Loading in the data: images + transcription\n",
        "# Images and transcriptions have to be loaded in in the same order!\n",
        "for image, class_id in zip(df[\"images\"], df[\"code\"]):\n",
        "    # Preprocess: pixel intensity is normalized using dataset mean and standard deviation.\n",
        "    # Input images are resized and center-cropped to conform with the expected image resolution.\n",
        "    image_input = preprocess(image).unsqueeze(0).to(device)\n",
        "    #print(image_input.size())\n",
        "    # unsqueeze(x), returns a new tensor with a dimension of size one inserted at the specified position.\n",
        "    # x refers to the index at which to insert the singleton dimension\n",
        "\n",
        "    with torch.no_grad():\n",
        "        image_feature = model.encode_image(image_input)\n",
        "        # matrix with dimenension (1, 768)\n",
        "\n",
        "    image_feature /= image_feature.norm()\n",
        "    # image features are normalized, if dim is None, the norm is calculated across all dimensions of input\n",
        "\n",
        "    image_features.append(image_feature)\n",
        "    # list of embedding (length 768) for each image\n",
        "    image_labels.append(class_id)\n",
        "    # Class id (the factorized ground truth) is added in a list of tensors\n",
        "\n",
        "\n",
        "image_features = torch.stack(image_features, dim=-1).to(device)\n",
        "# separate embeddings are concatenated on the second of 2 dimensions, (so on rows)\n",
        "# The final matrix has the shape [768, 10]\n",
        "\n",
        "# Squeeze to get a tensor returned where all the dimensions of input of size 1 are removed\n",
        "image_features = image_features.squeeze()\n",
        "\n",
        "  # extract text feature\n",
        "text_features = extract_text_features('HW')"
      ]
    },
    {
      "cell_type": "code",
      "source": [
        "# compute top-1 accuracy\n",
        "logits = (100. * image_features.T @ text_features).softmax(dim=-1)\n",
        "# image features are multiplied by text features, softmax converts real numbers into probability distribution\n",
        "# Output tensor lies in range 0-1 and sums to 1\n",
        "image_labels = torch.tensor(image_labels).unsqueeze(dim=1).to(device)\n",
        "\n",
        "top1_acc = accuracy(logits, image_labels, (1,))\n",
        "\n",
        "print(f'top-1 accuracy for = dataset: {top1_acc[0]:.3f}')"
      ],
      "metadata": {
        "colab": {
          "base_uri": "https://localhost:8080/"
        },
        "id": "NO9tRcFk-w-2",
        "outputId": "7d706aa5-23f9-45b8-c5ed-5d371610a943"
      },
      "execution_count": 87,
      "outputs": [
        {
          "output_type": "stream",
          "name": "stdout",
          "text": [
            "top-1 accuracy for = dataset: 96.419\n"
          ]
        },
        {
          "output_type": "stream",
          "name": "stderr",
          "text": [
            "<ipython-input-87-5577872695bd>:5: UserWarning: To copy construct from a tensor, it is recommended to use sourceTensor.clone().detach() or sourceTensor.clone().detach().requires_grad_(True), rather than torch.tensor(sourceTensor).\n",
            "  image_labels = torch.tensor(image_labels).unsqueeze(dim=1).to(device)\n"
          ]
        }
      ]
    },
    {
      "cell_type": "markdown",
      "source": [
        "# Visualizing word that matches prompt the best"
      ],
      "metadata": {
        "id": "F64M68we-0_7"
      }
    },
    {
      "cell_type": "code",
      "source": [
        "\n",
        "target_number = input(\"which word are you looking for? \")"
      ],
      "metadata": {
        "colab": {
          "base_uri": "https://localhost:8080/"
        },
        "id": "6-h_2Ad-jv5s",
        "outputId": "4914bd17-ef2b-4be3-a8db-2a6695d48da2"
      },
      "execution_count": 88,
      "outputs": [
        {
          "name": "stdout",
          "output_type": "stream",
          "text": [
            "which word are you looking for? a word that ends in -ive\n"
          ]
        }
      ]
    },
    {
      "cell_type": "code",
      "source": [
        "# Generate the text prompt for the target number\n",
        "target_text = HW_templates[0].format(target_number)\n",
        "target_text = clip.tokenize([target_text]).to(device)\n",
        "\n",
        "# Encode the text prompt to get its feature\n",
        "target_text_feature = model.encode_text(target_text)\n",
        "target_text_feature /= target_text_feature.norm()\n",
        "\n",
        "# Transpose the image features for compatibility\n",
        "transposed_image_features = image_features.T\n",
        "\n",
        "# Calculate similarity scores for each image\n",
        "similarity_scores = transposed_image_features @ target_text_feature.T\n",
        "\n",
        "# Find the index of the image with the highest similarity score\n",
        "best_image_index = torch.argmax(similarity_scores)\n",
        "\n",
        "\n",
        "# Convert the index to an integer\n",
        "best_image_index = int(best_image_index)\n",
        "\n",
        "# Retrieve the corresponding image from the DataFrame\n",
        "best_image = df.iloc[best_image_index]['images']\n",
        "\n",
        "# Convert the PIL Image to a NumPy array\n",
        "best_image_np = np.array(best_image)\n",
        "\n",
        "# Display the best image\n",
        "plt.imshow(best_image_np, cmap='gray')  # Assuming it's a grayscale image\n",
        "plt.title(f\"Image with highest similarity to {target_number}\")\n",
        "plt.axis('off')  # Turn off axis labels\n",
        "plt.show()\n"
      ],
      "metadata": {
        "colab": {
          "base_uri": "https://localhost:8080/",
          "height": 331
        },
        "id": "CXK085eUj31a",
        "outputId": "a703042e-a01e-4fb6-dce3-0468252ada18"
      },
      "execution_count": 89,
      "outputs": [
        {
          "output_type": "display_data",
          "data": {
            "text/plain": [
              "<Figure size 640x480 with 1 Axes>"
            ],
            "image/png": "[encoded data removed]"
          },
          "metadata": {}
        }
      ]
    }
  ],
  "metadata": {
    "accelerator": "GPU",
    "colab": {
      "collapsed_sections": [
        "q6nwZfOcSPJg",
        "FityzdDCBJjF",
        "kk67lvBYBJjI",
        "vwOrsKmwBJjJ",
        "Iv71DOwfBJjJ",
        "D5uCzQzGBJjL",
        "Fbn_4up8BJjL",
        "nFtH39y_BJjM",
        "sTUHN6AoBJjO",
        "qAG6Wx9YBJjV",
        "NsKyqFAQBJjX"
      ],
      "provenance": [],
      "gpuType": "V100",
      "gpuClass": "premium"
    },
    "gpuClass": "premium",
    "kernelspec": {
      "display_name": "Python 3",
      "language": "python",
      "name": "python3"
    },
    "language_info": {
      "codemirror_mode": {
        "name": "ipython",
        "version": 3
      },
      "file_extension": ".py",
      "mimetype": "text/x-python",
      "name": "python",
      "nbconvert_exporter": "python",
      "pygments_lexer": "ipython3",
      "version": "3.7.12"
    }
  },
  "nbformat": 4,
  "nbformat_minor": 0
}